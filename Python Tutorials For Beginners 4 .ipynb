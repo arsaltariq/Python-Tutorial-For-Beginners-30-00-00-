{
 "cells": [
  {
   "cell_type": "code",
   "execution_count": 14,
   "metadata": {},
   "outputs": [
    {
     "name": "stdout",
     "output_type": "stream",
     "text": [
      "['History', 'Maths', 'Physics', 'CompSci']\n",
      "4\n",
      "History\n",
      "Maths\n",
      "Physics\n",
      "CompSci\n",
      "['History', 'Maths', 'Physics', 'CompSci', 'Art']\n",
      "['Chemistry', 'History', 'Maths', 'Physics', 'CompSci', 'Art']\n",
      "[['Education', 'Electronics'], 'Chemistry', 'History', 'Maths', 'Physics', 'CompSci', 'Art']\n",
      "[['Education', 'Electronics'], 'Chemistry', 'History', 'Maths', 'Physics', 'CompSci', 'Art', 'Education', 'Electronics']\n",
      "[['Education', 'Electronics'], 'Chemistry', 'History', 'Physics', 'CompSci', 'Art', 'Education', 'Electronics']\n",
      "[['Education', 'Electronics'], 'Chemistry', 'History', 'Physics', 'CompSci', 'Art', 'Education']\n",
      "['Education', 'Art', 'CompSci', 'Physics', 'History', 'Chemistry', ['Education', 'Electronics']]\n",
      "3\n"
     ]
    }
   ],
   "source": [
    "#Python Tutorial For Beginners 4  \n",
    "#Lists - Tuples - Set:\n",
    "#IndexError [list index out of range]:\n",
    "#Lists are mutable\n",
    "#Tuples are immutable \n",
    "\n",
    "courses = [\"History\" , \"Maths\" , \"Physics\" , \"CompSci\"]\n",
    "print(courses)\n",
    "print(len(courses))\n",
    "print(courses[0])\n",
    "print(courses[1])\n",
    "print(courses[2])\n",
    "print(courses[3])\n",
    "\n",
    "courses.append(\"Art\")\n",
    "print(courses)\n",
    "\n",
    "courses.insert(0, \"Chemistry\")\n",
    "print(courses)\n",
    "\n",
    "courses2 = [\"Education\" , \"Electronics\"]\n",
    "courses.insert(0, courses2)\n",
    "print(courses)\n",
    "\n",
    "courses.extend(courses2)\n",
    "print(courses)\n",
    "\n",
    "courses.remove(\"Maths\")\n",
    "print(courses)\n",
    "\n",
    "courses.pop()\n",
    "print(courses)\n",
    "\n",
    "courses.reverse()\n",
    "print(courses)\n",
    "\n",
    "print(courses.index(\"Physics\"))"
   ]
  },
  {
   "cell_type": "code",
   "execution_count": 13,
   "metadata": {},
   "outputs": [
    {
     "name": "stdout",
     "output_type": "stream",
     "text": [
      "1\n",
      "9\n",
      "45\n"
     ]
    }
   ],
   "source": [
    "num = [1, 2, 3, 4, 5, 6, 7, 8, 9]\n",
    "\n",
    "print(min(num)) #Minimun number \n",
    "print(max(num)) #Maxinmum number\n",
    "print(sum(num)) #Sum of all elements\n",
    "\n"
   ]
  },
  {
   "cell_type": "code",
   "execution_count": 18,
   "metadata": {},
   "outputs": [
    {
     "name": "stdout",
     "output_type": "stream",
     "text": [
      "History\n",
      "Maths\n",
      "Physics\n",
      "CompSci\n"
     ]
    }
   ],
   "source": [
    "#Using for loops in a list\n",
    "\n",
    "courses = [\"History\" , \"Maths\" , \"Physics\" , \"CompSci\"]\n",
    "\n",
    "for items in courses:\n",
    "    print(items)"
   ]
  },
  {
   "cell_type": "code",
   "execution_count": 19,
   "metadata": {},
   "outputs": [
    {
     "name": "stdout",
     "output_type": "stream",
     "text": [
      "0 History\n",
      "1 Maths\n",
      "2 Physics\n",
      "3 CompSci\n"
     ]
    }
   ],
   "source": [
    "#Using enumerate function in a list \n",
    "#This will get index as well as all items is a list\n",
    "\n",
    "courses = [\"History\" , \"Maths\" , \"Physics\" , \"CompSci\"]\n",
    "\n",
    "for index, items in enumerate(courses):\n",
    "    print(index, items)"
   ]
  },
  {
   "cell_type": "code",
   "execution_count": 20,
   "metadata": {},
   "outputs": [
    {
     "name": "stdout",
     "output_type": "stream",
     "text": [
      "1 History\n",
      "2 Maths\n",
      "3 Physics\n",
      "4 CompSci\n"
     ]
    }
   ],
   "source": [
    "courses = [\"History\" , \"Maths\" , \"Physics\" , \"CompSci\"]\n",
    "\n",
    "for index, items in enumerate(courses, start=1):\n",
    "    print(index, items)"
   ]
  },
  {
   "cell_type": "code",
   "execution_count": 24,
   "metadata": {},
   "outputs": [
    {
     "name": "stdout",
     "output_type": "stream",
     "text": [
      "History , Maths , Physics , CompSci\n",
      "History - Maths - Physics - CompSci\n"
     ]
    }
   ],
   "source": [
    "courses = [\"History\" , \"Maths\" , \"Physics\" , \"CompSci\"]\n",
    "\n",
    "courses_str = \" , \".join(courses)\n",
    "print(courses_str)\n",
    "\n",
    "courses_str = \" - \".join(courses)\n",
    "print(courses_str)\n"
   ]
  },
  {
   "cell_type": "code",
   "execution_count": 25,
   "metadata": {},
   "outputs": [
    {
     "name": "stdout",
     "output_type": "stream",
     "text": [
      "('History', 'Maths', 'Physics', 'CompSci')\n",
      "('History', 'Maths', 'Physics', 'CompSci')\n"
     ]
    }
   ],
   "source": [
    "#Tuples(Immutable)\n",
    "\n",
    "tuple1 = (\"History\" , \"Maths\" , \"Physics\" , \"CompSci\")\n",
    "tuple2 = (tuple1)\n",
    "\n",
    "print(tuple1)\n",
    "print(tuple2)\n",
    "\n",
    "#But it does not support altering items\n",
    "#TypeError: Object Doesn't Support Item Assignment "
   ]
  },
  {
   "cell_type": "code",
   "execution_count": 27,
   "metadata": {},
   "outputs": [
    {
     "name": "stdout",
     "output_type": "stream",
     "text": [
      "{'Physics', 'CompSci', 'Maths', 'History'}\n",
      "True\n"
     ]
    }
   ],
   "source": [
    "#Set (values with no duplicate)\n",
    "#Sets throw away duplicates \n",
    "\n",
    "courses = {\"History\" , \"Maths\" , \"Physics\" , \"CompSci\"}\n",
    "print(courses)\n",
    "print(\"Maths\" in courses) #it will return True "
   ]
  },
  {
   "cell_type": "code",
   "execution_count": 30,
   "metadata": {},
   "outputs": [
    {
     "name": "stdout",
     "output_type": "stream",
     "text": [
      "{'Maths', 'History'}\n",
      "{'Physics', 'CompSci'}\n",
      "{'Physics', 'Programming', 'Maths', 'CompSci', 'History', 'Design'}\n"
     ]
    }
   ],
   "source": [
    "courses1 = {\"History\" , \"Maths\" , \"Physics\" , \"CompSci\"}\n",
    "courses2 = {\"History\" , \"Maths\" , \"Design\" , \"Programming\"}\n",
    "\n",
    "print(courses1.intersection(courses2)) #it will return common elements\n",
    "print(courses1.difference(courses2))   #it will return different elements \n",
    "print(courses1.union(courses2))        #it will print out all elements from both sets"
   ]
  },
  {
   "cell_type": "code",
   "execution_count": null,
   "metadata": {},
   "outputs": [],
   "source": [
    "#Empty Lists\n",
    "\n",
    "empty_list = []\n",
    "empty_list = list()     #Or you can use built in lists class\n",
    "\n",
    "#Empty Tuples\n",
    "\n",
    "empty_tuples = ()\n",
    "empty_tuples = tuple()  #Built in tuple class \n",
    "\n",
    "#Empty Sets\n",
    "\n",
    "empty_sets = {}  #this is wrong, It's a dictionary \n",
    "empty_sets = set()\n"
   ]
  }
 ],
 "metadata": {
  "kernelspec": {
   "display_name": "Python 3",
   "language": "python",
   "name": "python3"
  },
  "language_info": {
   "codemirror_mode": {
    "name": "ipython",
    "version": 3
   },
   "file_extension": ".py",
   "mimetype": "text/x-python",
   "name": "python",
   "nbconvert_exporter": "python",
   "pygments_lexer": "ipython3",
   "version": "3.7.0"
  }
 },
 "nbformat": 4,
 "nbformat_minor": 2
}
